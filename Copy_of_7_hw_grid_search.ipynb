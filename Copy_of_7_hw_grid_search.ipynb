{
  "nbformat": 4,
  "nbformat_minor": 0,
  "metadata": {
    "colab": {
      "name": "Copy of 7-hw-grid-search.ipynb",
      "provenance": [],
      "collapsed_sections": [],
      "toc_visible": true,
      "include_colab_link": true
    },
    "kernelspec": {
      "name": "python3",
      "display_name": "Python 3"
    }
  },
  "cells": [
    {
      "cell_type": "markdown",
      "metadata": {
        "id": "view-in-github",
        "colab_type": "text"
      },
      "source": [
        "<a href=\"https://colab.research.google.com/github/lijerrymagic/MLColabAssignment/blob/master/Copy_of_7_hw_grid_search.ipynb\" target=\"_parent\"><img src=\"https://colab.research.google.com/assets/colab-badge.svg\" alt=\"Open In Colab\"/></a>"
      ]
    },
    {
      "cell_type": "markdown",
      "metadata": {
        "id": "NaBTllEjAnwG",
        "colab_type": "text"
      },
      "source": [
        "# Homework: Grid search for hyperparameter tuning\n",
        "\n"
      ]
    },
    {
      "cell_type": "markdown",
      "metadata": {
        "id": "epwEZzz3GuLG",
        "colab_type": "text"
      },
      "source": [
        "* Name: Zeyu Li\n",
        "* Net ID: zl3719"
      ]
    },
    {
      "cell_type": "markdown",
      "metadata": {
        "id": "kjJSZsD8G3RO",
        "colab_type": "text"
      },
      "source": [
        "## Introduction"
      ]
    },
    {
      "cell_type": "markdown",
      "metadata": {
        "id": "rw8FOjmiPWlJ",
        "colab_type": "text"
      },
      "source": [
        "For models with a single hyperparameter controlling bias-variance (for example: $k$ in $k$ nearest neighbors), we used Scikit-learn's `KFoldCV` to test a range of values for the hyperparameter, and to select the best one. \n",
        "\n"
      ]
    },
    {
      "cell_type": "markdown",
      "metadata": {
        "id": "6LU9WE49PX5S",
        "colab_type": "text"
      },
      "source": [
        "When we have *multiple* hyperparameters to tune, we can use `GridSearchCV` to select the best *combination* of them."
      ]
    },
    {
      "cell_type": "markdown",
      "metadata": {
        "id": "-XNw1p1ZBNoW",
        "colab_type": "text"
      },
      "source": [
        "For example, in this week's lesson (in the notebook on bias and variance of SVM), we saw three ways to tune the bias-variance of an SVM classifier:\n",
        "\n",
        "* Changing the kernel\n",
        "* Changing $C$, the inverse of the regularization penalty weight\n",
        "* For an RBF kernel, changing $\\gamma$, the inverse of the kernel bandwidth\n",
        "\n",
        "\n",
        "To get the best performance from an SVM classifier, we need to find the best *combination* of these hyperparameters."
      ]
    },
    {
      "cell_type": "markdown",
      "metadata": {
        "id": "6WGjwn5FCGof",
        "colab_type": "text"
      },
      "source": [
        "This notebook shows how to use `GridSearchCV` to tune an SVM classifier."
      ]
    },
    {
      "cell_type": "code",
      "metadata": {
        "id": "jFS7vTtMXhF4",
        "colab_type": "code",
        "colab": {}
      },
      "source": [
        "from sklearn.model_selection import train_test_split\n",
        "from sklearn.model_selection import GridSearchCV\n",
        "from sklearn.metrics import accuracy_score\n",
        "from sklearn.svm import SVC\n",
        "\n",
        "import numpy as np\n",
        "import pandas as pd"
      ],
      "execution_count": 1,
      "outputs": []
    },
    {
      "cell_type": "markdown",
      "metadata": {
        "id": "3drNBKX-J67W",
        "colab_type": "text"
      },
      "source": [
        "## Get the data"
      ]
    },
    {
      "cell_type": "markdown",
      "metadata": {
        "id": "-T0Xy6ClKMGA",
        "colab_type": "text"
      },
      "source": [
        "We will work with a subset of the MNIST handwritten digits data. First, we will get the data, and assign a small subset of samples to training and test sets."
      ]
    },
    {
      "cell_type": "code",
      "metadata": {
        "id": "b9dNtVkiKBxh",
        "colab_type": "code",
        "colab": {}
      },
      "source": [
        "from sklearn.datasets import fetch_openml"
      ],
      "execution_count": 2,
      "outputs": []
    },
    {
      "cell_type": "code",
      "metadata": {
        "id": "XyErDOylKDb7",
        "colab_type": "code",
        "colab": {}
      },
      "source": [
        "X, y = fetch_openml('mnist_784', version=1, return_X_y=True )"
      ],
      "execution_count": 3,
      "outputs": []
    },
    {
      "cell_type": "code",
      "metadata": {
        "id": "CNsqROPqKJMp",
        "colab_type": "code",
        "colab": {}
      },
      "source": [
        "X_train, X_test, y_train, y_test = train_test_split(X, y, \n",
        "                                     train_size=10000, test_size=3000)"
      ],
      "execution_count": 4,
      "outputs": []
    },
    {
      "cell_type": "markdown",
      "metadata": {
        "id": "9op_RaxsKk8x",
        "colab_type": "text"
      },
      "source": [
        "## Run grid search"
      ]
    },
    {
      "cell_type": "markdown",
      "metadata": {
        "id": "JY6NucORKoXQ",
        "colab_type": "text"
      },
      "source": [
        "Then, we will define a *parameter grid* with all the combinations of hyperparameters that we want to test."
      ]
    },
    {
      "cell_type": "code",
      "metadata": {
        "id": "gQ0xFE0f7wei",
        "colab_type": "code",
        "colab": {
          "base_uri": "https://localhost:8080/",
          "height": 34
        },
        "outputId": "ef3ab978-8f0f-4acf-a69a-d772fbc37718"
      },
      "source": [
        "param_grid = [\n",
        "  {'C': [10000000], 'gamma': [0.0000000000001], 'kernel': ['rbf']},\n",
        " ]\n",
        "param_grid"
      ],
      "execution_count": 41,
      "outputs": [
        {
          "output_type": "execute_result",
          "data": {
            "text/plain": [
              "[{'C': [10000000], 'gamma': [1e-13], 'kernel': ['rbf']}]"
            ]
          },
          "metadata": {
            "tags": []
          },
          "execution_count": 41
        }
      ]
    },
    {
      "cell_type": "markdown",
      "metadata": {
        "id": "PjB2Sg6qEU7T",
        "colab_type": "text"
      },
      "source": [
        "We will pass the parameter grid to a `GridSearchCV`, along with the number of CV folds to use. \n",
        "\n",
        "Also, we set:\n",
        "\n",
        "* `verbose` to a large positive number, so that we get plenty of logging output, and\n",
        "* `refit` to `True`, so that after testing all of the hyperparameter combinations, it will re-fit an SVM classifier with the hyperparameters that had the best mean validation score.\n"
      ]
    },
    {
      "cell_type": "code",
      "metadata": {
        "id": "6pqQcCL2AFGd",
        "colab_type": "code",
        "colab": {
          "base_uri": "https://localhost:8080/",
          "height": 432
        },
        "outputId": "ae61d4a0-b06f-4b06-bb6f-ec5b575eaa31"
      },
      "source": [
        "clf = GridSearchCV(SVC(), param_grid, cv=3, refit=True, verbose=100)\n",
        "clf.fit(X_train, y_train)"
      ],
      "execution_count": 42,
      "outputs": [
        {
          "output_type": "stream",
          "text": [
            "Fitting 3 folds for each of 1 candidates, totalling 3 fits\n",
            "[Parallel(n_jobs=1)]: Using backend SequentialBackend with 1 concurrent workers.\n",
            "[CV] C=10000000, gamma=1e-13, kernel=rbf .............................\n",
            "[CV] . C=10000000, gamma=1e-13, kernel=rbf, score=0.912, total=  16.7s\n",
            "[Parallel(n_jobs=1)]: Done   1 out of   1 | elapsed:   16.7s remaining:    0.0s\n",
            "[CV] C=10000000, gamma=1e-13, kernel=rbf .............................\n",
            "[CV] . C=10000000, gamma=1e-13, kernel=rbf, score=0.918, total=  17.1s\n",
            "[Parallel(n_jobs=1)]: Done   2 out of   2 | elapsed:   33.8s remaining:    0.0s\n",
            "[CV] C=10000000, gamma=1e-13, kernel=rbf .............................\n",
            "[CV] . C=10000000, gamma=1e-13, kernel=rbf, score=0.910, total=  17.0s\n",
            "[Parallel(n_jobs=1)]: Done   3 out of   3 | elapsed:   50.8s remaining:    0.0s\n",
            "[Parallel(n_jobs=1)]: Done   3 out of   3 | elapsed:   50.8s finished\n"
          ],
          "name": "stdout"
        },
        {
          "output_type": "execute_result",
          "data": {
            "text/plain": [
              "GridSearchCV(cv=3, error_score=nan,\n",
              "             estimator=SVC(C=1.0, break_ties=False, cache_size=200,\n",
              "                           class_weight=None, coef0=0.0,\n",
              "                           decision_function_shape='ovr', degree=3,\n",
              "                           gamma='scale', kernel='rbf', max_iter=-1,\n",
              "                           probability=False, random_state=None, shrinking=True,\n",
              "                           tol=0.001, verbose=False),\n",
              "             iid='deprecated', n_jobs=None,\n",
              "             param_grid=[{'C': [10000000], 'gamma': [1e-13],\n",
              "                          'kernel': ['rbf']}],\n",
              "             pre_dispatch='2*n_jobs', refit=True, return_train_score=False,\n",
              "             scoring=None, verbose=100)"
            ]
          },
          "metadata": {
            "tags": []
          },
          "execution_count": 42
        }
      ]
    },
    {
      "cell_type": "markdown",
      "metadata": {
        "id": "7lIRPXQaKzcH",
        "colab_type": "text"
      },
      "source": [
        "## Review results"
      ]
    },
    {
      "cell_type": "markdown",
      "metadata": {
        "id": "LXcQs30KEsKr",
        "colab_type": "text"
      },
      "source": [
        "Finally, we'll print the results of the cross validation. For each combination of parameters, we can see:\n",
        "\n",
        "* the validation score for each fold\n",
        "* the mean validation score\n",
        "* the standard deviation of the validation score\n",
        "* the rank, by mean validation score\n",
        "\n",
        "(in the report, the \"test\" scores are validation scores.)"
      ]
    },
    {
      "cell_type": "code",
      "metadata": {
        "id": "WCnPOXUMAmNf",
        "colab_type": "code",
        "colab": {
          "base_uri": "https://localhost:8080/",
          "height": 184
        },
        "outputId": "9fc93304-cc9d-437c-d6f5-c9e41819a3b3"
      },
      "source": [
        "pd.DataFrame(clf.cv_results_)"
      ],
      "execution_count": 43,
      "outputs": [
        {
          "output_type": "execute_result",
          "data": {
            "text/html": [
              "<div>\n",
              "<style scoped>\n",
              "    .dataframe tbody tr th:only-of-type {\n",
              "        vertical-align: middle;\n",
              "    }\n",
              "\n",
              "    .dataframe tbody tr th {\n",
              "        vertical-align: top;\n",
              "    }\n",
              "\n",
              "    .dataframe thead th {\n",
              "        text-align: right;\n",
              "    }\n",
              "</style>\n",
              "<table border=\"1\" class=\"dataframe\">\n",
              "  <thead>\n",
              "    <tr style=\"text-align: right;\">\n",
              "      <th></th>\n",
              "      <th>mean_fit_time</th>\n",
              "      <th>std_fit_time</th>\n",
              "      <th>mean_score_time</th>\n",
              "      <th>std_score_time</th>\n",
              "      <th>param_C</th>\n",
              "      <th>param_gamma</th>\n",
              "      <th>param_kernel</th>\n",
              "      <th>params</th>\n",
              "      <th>split0_test_score</th>\n",
              "      <th>split1_test_score</th>\n",
              "      <th>split2_test_score</th>\n",
              "      <th>mean_test_score</th>\n",
              "      <th>std_test_score</th>\n",
              "      <th>rank_test_score</th>\n",
              "    </tr>\n",
              "  </thead>\n",
              "  <tbody>\n",
              "    <tr>\n",
              "      <th>0</th>\n",
              "      <td>9.537126</td>\n",
              "      <td>0.098427</td>\n",
              "      <td>7.408562</td>\n",
              "      <td>0.085891</td>\n",
              "      <td>10000000</td>\n",
              "      <td>1e-13</td>\n",
              "      <td>rbf</td>\n",
              "      <td>{'C': 10000000, 'gamma': 1e-13, 'kernel': 'rbf'}</td>\n",
              "      <td>0.912418</td>\n",
              "      <td>0.917792</td>\n",
              "      <td>0.909691</td>\n",
              "      <td>0.9133</td>\n",
              "      <td>0.003366</td>\n",
              "      <td>1</td>\n",
              "    </tr>\n",
              "  </tbody>\n",
              "</table>\n",
              "</div>"
            ],
            "text/plain": [
              "   mean_fit_time  std_fit_time  ...  std_test_score  rank_test_score\n",
              "0       9.537126      0.098427  ...        0.003366                1\n",
              "\n",
              "[1 rows x 14 columns]"
            ]
          },
          "metadata": {
            "tags": []
          },
          "execution_count": 43
        }
      ]
    },
    {
      "cell_type": "markdown",
      "metadata": {
        "id": "KE7g2RoYK2er",
        "colab_type": "text"
      },
      "source": [
        "## Evaluate performance of the re-fitted model"
      ]
    },
    {
      "cell_type": "markdown",
      "metadata": {
        "id": "lAUpvYNUFY1g",
        "colab_type": "text"
      },
      "source": [
        "We can see the \"best\" parameters, with which the model was re-fitted:"
      ]
    },
    {
      "cell_type": "code",
      "metadata": {
        "id": "g4b7icFQDHPw",
        "colab_type": "code",
        "colab": {
          "base_uri": "https://localhost:8080/",
          "height": 34
        },
        "outputId": "42541847-8927-4e6f-cceb-90395588bed3"
      },
      "source": [
        "print(clf.best_params_)"
      ],
      "execution_count": 44,
      "outputs": [
        {
          "output_type": "stream",
          "text": [
            "{'C': 10000000, 'gamma': 1e-13, 'kernel': 'rbf'}\n"
          ],
          "name": "stdout"
        }
      ]
    },
    {
      "cell_type": "markdown",
      "metadata": {
        "id": "BABJex6EFcNV",
        "colab_type": "text"
      },
      "source": [
        "And we can evaluate the re-fitted model on the test set. (Note that the `GridSearchCV` only used the training set; we have not used the test set at all for model fitting.)"
      ]
    },
    {
      "cell_type": "code",
      "metadata": {
        "id": "Wu30afxMDLXv",
        "colab_type": "code",
        "colab": {}
      },
      "source": [
        "y_pred = clf.predict(X_test)"
      ],
      "execution_count": 45,
      "outputs": []
    },
    {
      "cell_type": "code",
      "metadata": {
        "id": "RBbo9eNTDOcs",
        "colab_type": "code",
        "colab": {
          "base_uri": "https://localhost:8080/",
          "height": 34
        },
        "outputId": "d7949cb8-3c10-4778-ac2d-803d7983a1d7"
      },
      "source": [
        "accuracy_score(y_pred, y_test)"
      ],
      "execution_count": 46,
      "outputs": [
        {
          "output_type": "execute_result",
          "data": {
            "text/plain": [
              "0.9243333333333333"
            ]
          },
          "metadata": {
            "tags": []
          },
          "execution_count": 46
        }
      ]
    },
    {
      "cell_type": "markdown",
      "metadata": {
        "id": "48g04_Z5LFNP",
        "colab_type": "text"
      },
      "source": [
        "## Assignment\n",
        " \n",
        "The results of a `GridSearchCV` are only as good as the combinations of hyperparameters we test in the grid. \n",
        " \n",
        "* If the range of hyperparameter values is too narrow (it excludes good values), the model accuracy will be lower that it would be with a better choice of hyperparameters.\n",
        "* If the search space is large with a fine resolution, the grid search will take a very long time.\n",
        "* If the search space is large with a coarse resolution, we may not find a good combination of hyperparameters."
      ]
    },
    {
      "cell_type": "markdown",
      "metadata": {
        "id": "ko5tsGcNFNnH",
        "colab_type": "text"
      },
      "source": [
        "In the demo above, I did not use a good parameter grid. For your assignment, try to improve the parameter grid, and re-run the notebook with your modified parameter grid.\n",
        "\n",
        "Explain the results. In particular, explain: if *I* would run your notebook, with exactly the parameter grid you defined, would I be confident that the SVM performance is about as good as it can be? Why?\n",
        "\n",
        "**Answer:** No. The performance will vary if the same notebook runs in diffrent machine, because the training set and testing set it chooses are randomly decided, so there will be different between the training set used to train the model, thus the performance of model for testing set will also be different.\n",
        "\n",
        "\n",
        "\n",
        "Also answer the following question: suppose instead of using a `GridSearchCV`, I would separately run one `KFoldCV` over a range of values of $C$, one `KFoldCV` over a range of values of $\\gamma$, and one `KFoldCV` for two values of `kernel`. In other words, I would independently select a best value for each hyperparameter. Would this be a good strategy? Why or why not?\n",
        "\n",
        "**Answer:** I do not think this would be a good strategy and we cannot independently select a best value for each hyperparameter. Because the hyperparameter are somehow correlated which means if I just change one of them, we cannot guarantee that the performance of our model trained will increase. So a better way would be identifying the correlation between those two parameter and select them by changing both parameters together and observe the performance throught that.\n",
        "\n",
        "Submit the PDF version of the notebook, including your explanation.\n",
        "\n"
      ]
    }
  ]
}